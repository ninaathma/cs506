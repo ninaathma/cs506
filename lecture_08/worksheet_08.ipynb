{
 "cells": [
  {
   "attachments": {},
   "cell_type": "markdown",
   "metadata": {},
   "source": [
    "# Worksheet 08\n",
    "\n",
    "Name:  Nina Athma\n",
    "UID: U51803274\n",
    "\n",
    "### Topics\n",
    "\n",
    "- Soft Clustering\n",
    "- Clustering Aggregation\n",
    "\n",
    "### Probability Review\n",
    "\n",
    "Read through [the following](https://medium.com/@gallettilance/overview-of-probability-3272b72c82c8)\n",
    "\n",
    "### Soft Clustering\n",
    "\n",
    "We generate 10 data points that come from a normal distribution with mean 5 and variance 1."
   ]
  },
  {
   "cell_type": "code",
   "execution_count": 1,
   "metadata": {},
   "outputs": [
    {
     "name": "stdout",
     "output_type": "stream",
     "text": [
      "[6.809238874203322, 3.8430318566353465, 5.168648488749895, 4.029150161594263, 4.419003511189607, 5.545487489136424, 5.952450118277096, 5.031586489479561, 5.573940614380515, 4.39564365543242]\n"
     ]
    }
   ],
   "source": [
    "import random\n",
    "import numpy as np\n",
    "from sklearn.cluster import KMeans\n",
    "\n",
    "mean = 5\n",
    "stdev = 1\n",
    "\n",
    "s1 = np.random.normal(mean, stdev, 10).tolist()\n",
    "print(s1)"
   ]
  },
  {
   "cell_type": "markdown",
   "metadata": {},
   "source": [
    "a) Generate 10 more data points, this time coming from a normal distribution with mean 8 and variance 1."
   ]
  },
  {
   "cell_type": "code",
   "execution_count": 3,
   "metadata": {},
   "outputs": [
    {
     "name": "stdout",
     "output_type": "stream",
     "text": [
      "[7.264301574636394, 8.495149752892523, 8.450528967201775, 8.426332126557252, 10.10401539172487, 9.526352911163631, 6.621217119058324, 7.455550887916708, 8.758207619275794, 7.831347885733749]\n"
     ]
    }
   ],
   "source": [
    "s2 = np.random.normal( 8 , 1 , 10 ).tolist()\n",
    "print(s2)"
   ]
  },
  {
   "cell_type": "markdown",
   "metadata": {},
   "source": [
    "b) Flip a fair coin 10 times. If the coin lands on H, then pick the last data point of `c1` and remove it from `c1`, if T then pick the last data point from `c2` and remove it from `c2`. Add these 10 points to a list called `data`."
   ]
  },
  {
   "cell_type": "code",
   "execution_count": 4,
   "metadata": {},
   "outputs": [
    {
     "name": "stdout",
     "output_type": "stream",
     "text": [
      "[7.831347885733749, 8.758207619275794, 4.39564365543242, 7.455550887916708, 5.573940614380515, 5.031586489479561, 6.621217119058324, 5.952450118277096, 9.526352911163631, 5.545487489136424]\n"
     ]
    }
   ],
   "source": [
    "data = []\n",
    "for i in range(10):\n",
    "    # flip coin\n",
    "    coin_output = random.choice([0, 1])\n",
    "    if coin_output == 0:\n",
    "        p1= s1.pop()\n",
    "        data.append(p1)\n",
    "    else:\n",
    "        p2 = s2.pop()\n",
    "        data.append(p2)\n",
    "print(data)"
   ]
  },
  {
   "cell_type": "markdown",
   "metadata": {},
   "source": [
    "c) This `data` is a Gaussian Mixture Distribution with 2 mixture components. Over the next few questions we will walk through the GMM algorithm to see if we can uncover the parameters we used to generate this data. First, please list all these parameters of the GMM that created `data` and the values we know they have."
   ]
  },
  {
   "cell_type": "markdown",
   "metadata": {},
   "source": [
    "Mean and variance describe the distribution of each cluster.\n",
    "\n",
    "s1_mean = 5, s1_var = 1\n",
    "\n",
    "s2_mean=8, s2_var=1\n",
    "\n",
    "cardinality = 10"
   ]
  },
  {
   "cell_type": "markdown",
   "metadata": {},
   "source": [
    "d) Let's assume there are two mixture components (note: we could plot the data and make the observation that there are two clusters). The EM algorithm asks us to start with a random `mean_j`, `variance_j`, `P(S_j)` for each component j. One method we could use to find sensible values for these is to apply K means with k=2 here.\n",
    "\n",
    "1. the centroids would be the estimates of the `mean_j`\n",
    "2. the intra-cluster variance could be the estimate of `variance_j`\n",
    "3. the proportion of points in each cluster could be the estimate of `P(S_j)`\n",
    "\n",
    "Go through this process and list the parameter estimates it gives. Are they close or far from the true values?"
   ]
  },
  {
   "cell_type": "code",
   "execution_count": 12,
   "metadata": {},
   "outputs": [
    {
     "name": "stdout",
     "output_type": "stream",
     "text": [
      "[4.39564365543242, 5.573940614380515, 5.031586489479561, 6.621217119058324, 5.952450118277096, 5.545487489136424]\n",
      "[7.831347885733749, 8.758207619275794, 7.455550887916708, 9.526352911163631]\n",
      "P(S_1) = 0.6,  P(S_2) = 0.4\n",
      "mean_1 = 5.52005424762739,  mean_2 = 8.392864826022471\n",
      "var_1 = 0.48432939654310925,  var_2 = 0.6530323221344142\n"
     ]
    }
   ],
   "source": [
    "kmeans = KMeans(2, init='k-means++').fit(X=np.array(data).reshape(-1, 1))\n",
    "\n",
    "s1 = [x[0] for x in filter(lambda x: x[1] == 0, zip(data, kmeans.labels_))]\n",
    "print(s1)\n",
    "s2 = [x[0] for x in filter(lambda x: x[1] == 1, zip(data, kmeans.labels_))]\n",
    "print(s2)\n",
    "\n",
    "prob_s = [ len(s1) / (len(s1) + len(s2)) , len(s2)/(len(s1)+len(s2)) ]\n",
    "mean = [ sum(s1)/len(s1) , sum(s2)/len(s2) ]\n",
    "var = [ sum(map(lambda x : (x - mean[0])**2, s1)) / len(s1) , sum(map(lambda x : (x - mean[1])**2, s2)) / len(s2) ]\n",
    "\n",
    "print(\"P(S_1) = \" + str(prob_s[0]) + \",  P(S_2) = \" + str(prob_s[1]))\n",
    "print(\"mean_1 = \" + str(mean[0]) + \",  mean_2 = \" + str(mean[1]))\n",
    "print(\"var_1 = \" + str(var[0]) + \",  var_2 = \" + str(var[1]))"
   ]
  },
  {
   "cell_type": "markdown",
   "metadata": {},
   "source": [
    "e) For each data point, compute `P(S_j | X_i)`. Comment on which cluster you think each point belongs to based on the estimated probabilities. How does that compare to the truth?"
   ]
  },
  {
   "cell_type": "code",
   "execution_count": 15,
   "metadata": {},
   "outputs": [
    {
     "name": "stdout",
     "output_type": "stream",
     "text": [
      "point =  7.831347885733749\n",
      "probability of observing that point if it came from cluster 0 =  9.345017604695026e-06\n",
      "probability of observing that point if it came from cluster 1 =  0.4221096191803017\n",
      "point =  8.758207619275794\n",
      "probability of observing that point if it came from cluster 0 =  1.6186812809443532e-10\n",
      "probability of observing that point if it came from cluster 1 =  0.5224085476727631\n",
      "point =  4.39564365543242\n",
      "probability of observing that point if it came from cluster 0 =  0.0556417828466975\n",
      "probability of observing that point if it came from cluster 1 =  4.468436903564918e-09\n",
      "point =  7.455550887916708\n",
      "probability of observing that point if it came from cluster 0 =  0.0002805056574300794\n",
      "probability of observing that point if it came from cluster 1 =  0.2180808284776517\n",
      "point =  5.573940614380515\n",
      "probability of observing that point if it came from cluster 0 =  0.8186178852158207\n",
      "probability of observing that point if it came from cluster 1 =  5.4920471671306494e-05\n",
      "point =  5.031586489479561\n",
      "probability of observing that point if it came from cluster 0 =  0.4953307667245085\n",
      "probability of observing that point if it came from cluster 1 =  1.0789007262027996e-06\n",
      "point =  6.621217119058324\n",
      "probability of observing that point if it came from cluster 0 =  0.062129315045115895\n",
      "probability of observing that point if it came from cluster 1 =  0.015407914509952303\n",
      "point =  5.952450118277096\n",
      "probability of observing that point if it came from cluster 0 =  0.552959955589959\n",
      "probability of observing that point if it came from cluster 1 =  0.00056675538511014\n",
      "point =  9.526352911163631\n",
      "probability of observing that point if it came from cluster 0 =  1.1423659850419877e-15\n",
      "probability of observing that point if it came from cluster 1 =  0.13544495268348913\n",
      "point =  5.545487489136424\n",
      "probability of observing that point if it came from cluster 0 =  0.8225654124676799\n",
      "probability of observing that point if it came from cluster 1 =  4.546106997296652e-05\n",
      "7.831347885733749\n",
      "Probability of coming from S_1 = 3.320715825440002e-05\n",
      "Probability of coming from S_2 = 0.9999667928417456\n",
      "\n",
      "8.758207619275794\n",
      "Probability of coming from S_1 = 4.6477453921924733e-10\n",
      "Probability of coming from S_2 = 0.9999999995352256\n",
      "\n",
      "4.39564365543242\n",
      "Probability of coming from S_1 = 0.9999999464618561\n",
      "Probability of coming from S_2 = 5.353814388783333e-08\n",
      "\n",
      "7.455550887916708\n",
      "Probability of coming from S_1 = 0.001925654142799585\n",
      "Probability of coming from S_2 = 0.9980743458572005\n",
      "\n",
      "5.573940614380515\n",
      "Probability of coming from S_1 = 0.9999552758241338\n",
      "Probability of coming from S_2 = 4.4724175866248194e-05\n",
      "\n",
      "5.031586489479561\n",
      "Probability of coming from S_1 = 0.9999985479074697\n",
      "Probability of coming from S_2 = 1.4520925302414108e-06\n",
      "\n",
      "6.621217119058324\n",
      "Probability of coming from S_1 = 0.8581247994435025\n",
      "Probability of coming from S_2 = 0.14187520055649752\n",
      "\n",
      "5.952450118277096\n",
      "Probability of coming from S_1 = 0.9993171676893953\n",
      "Probability of coming from S_2 = 0.0006828323106046175\n",
      "\n",
      "9.526352911163631\n",
      "Probability of coming from S_1 = 1.2651257530188076e-14\n",
      "Probability of coming from S_2 = 0.9999999999999873\n",
      "\n",
      "5.545487489136424\n",
      "Probability of coming from S_1 = 0.9999631564093385\n",
      "Probability of coming from S_2 = 3.6843590661510336e-05\n",
      "\n"
     ]
    }
   ],
   "source": [
    "from scipy.stats import norm\n",
    "\n",
    "prob_s0_x = [] # P(S_0 | X_i)\n",
    "prob_s1_x = [] # P(S_1 | X_i)\n",
    "prob_x = [] # P(X_i)\n",
    "\n",
    "k = 2\n",
    "\n",
    "for p in data:\n",
    "    print(\"point = \", p)\n",
    "    pdf_i = []\n",
    "\n",
    "    for j in range(k):\n",
    "        # P(X_i | S_j)\n",
    "        pdf_i.append(norm.pdf(p, mean[j], var[j]))\n",
    "        print(\"probability of observing that point if it came from cluster \" + str(j) + \" = \", pdf_i[j])\n",
    "        # P(S_j) already computed\n",
    "        prob_s[j]\n",
    "\n",
    "    # P(X_i) = P(S_0)P(X_i | S_0) + P(S_1)P(X_i | S_1)\n",
    "    prob_x = prob_s[0] * pdf_i[0] + prob_s[1] * pdf_i[1]\n",
    "\n",
    "    # P(S_j | X_i) = P(X_i | S_j)P(S_j) / P(X_i)\n",
    "    prob_s0_x.append( pdf_i[0]*prob_s[0] / prob_x )\n",
    "    prob_s1_x.append( pdf_i[1]*prob_s[1] / prob_x )\n",
    "\n",
    "probs = zip(data, prob_s0_x, prob_s1_x)\n",
    "for p in probs:\n",
    "    print(p[0])\n",
    "    print(\"Probability of coming from S_1 = \" + str(p[1]))\n",
    "    print(\"Probability of coming from S_2 = \" + str(p[2]))\n",
    "    print()\n"
   ]
  },
  {
   "cell_type": "markdown",
   "metadata": {},
   "source": [
    "We can assume that each point x belongs to the cluster for which prob_Si_x is greatest."
   ]
  },
  {
   "cell_type": "markdown",
   "metadata": {},
   "source": [
    "f) Having computed `P(S_j | X_i)`, update the estimates of `mean_j`, `var_j`, and `P(S_j)`. How different are these values from the original ones you got from K means? briefly comment."
   ]
  },
  {
   "cell_type": "code",
   "execution_count": 18,
   "metadata": {},
   "outputs": [
    {
     "name": "stdout",
     "output_type": "stream",
     "text": [
      "P(S_1) = 0.5859317755501537,  P(S_2) = 0.4140682244498463\n",
      "mean_1 = 5.493989492151155,  mean_2 = 8.33214252453051\n",
      "var_1 = 0.5859317755501537,  var_2 = 0.4140682244498463\n"
     ]
    }
   ],
   "source": [
    "prob_c = [sum(prob_s0_x)/ len(prob_s0_x), sum(prob_s1_x)/ len(prob_s1_x) ]\n",
    "mean = [sum([x[0] * x[1] for x in zip(prob_s0_x, data)]) / sum(prob_s0_x), sum([x[0] * x[1] for x in zip(prob_s1_x, data)]) / sum(prob_s1_x) ]\n",
    "var = [ sum(prob_s0_x)/len(prob_s0_x) , sum(prob_s1_x)/len(prob_s1_x) ]\n",
    "\n",
    "print(\"P(S_1) = \" + str(prob_c[0]) + \",  P(S_2) = \" + str(prob_c[1]))\n",
    "print(\"mean_1 = \" + str(mean[0]) + \",  mean_2 = \" + str(mean[1]))\n",
    "print(\"var_1 = \" + str(var[0]) + \",  var_2 = \" + str(var[1]))"
   ]
  },
  {
   "cell_type": "markdown",
   "metadata": {},
   "source": [
    "The values are pretty close to those from Kmeans."
   ]
  },
  {
   "cell_type": "markdown",
   "metadata": {},
   "source": [
    "g) Update `P(S_j | X_i)`. Comment on any differences or lack thereof you observe."
   ]
  },
  {
   "cell_type": "code",
   "execution_count": null,
   "metadata": {},
   "outputs": [],
   "source": []
  },
  {
   "cell_type": "markdown",
   "metadata": {},
   "source": []
  },
  {
   "cell_type": "markdown",
   "metadata": {},
   "source": [
    "h) Use `P(S_j | X_i)` to create a hard assignment - label each point as belonging to a specific cluster (0 or 1)"
   ]
  },
  {
   "cell_type": "code",
   "execution_count": null,
   "metadata": {},
   "outputs": [],
   "source": []
  }
 ],
 "metadata": {
  "kernelspec": {
   "display_name": "Python 3",
   "language": "python",
   "name": "python3"
  },
  "language_info": {
   "codemirror_mode": {
    "name": "ipython",
    "version": 3
   },
   "file_extension": ".py",
   "mimetype": "text/x-python",
   "name": "python",
   "nbconvert_exporter": "python",
   "pygments_lexer": "ipython3",
   "version": "3.8.5"
  },
  "orig_nbformat": 4,
  "vscode": {
   "interpreter": {
    "hash": "e7370f93d1d0cde622a1f8e1c04877d8463912d04d973331ad4851f04de6915a"
   }
  }
 },
 "nbformat": 4,
 "nbformat_minor": 2
}
